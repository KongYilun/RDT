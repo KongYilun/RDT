{
 "cells": [
  {
   "cell_type": "code",
   "execution_count": 4,
   "id": "4c0ed408",
   "metadata": {},
   "outputs": [],
   "source": [
    "import sys\n",
    "from pathlib import Path\n",
    "\n",
    "# 获取当前文件的父目录（即A文件夹），然后找到C文件夹\n",
    "# current_dir = Path(__file__).parent  # A/\n",
    "# c_dir = current_dir.parent  # C/\n",
    "\n",
    "# 添加B文件夹到Python路径\n",
    "sys.path.append(str(\"/data/ylkong/code/RoboticsDiffusionTransformer-main/configs\"))\n",
    "\n",
    "# 现在可以导入B文件夹下的模块\n",
    "from state_vec import STATE_VEC_IDX_MAPPING"
   ]
  },
  {
   "cell_type": "code",
   "execution_count": 5,
   "id": "abf798ab",
   "metadata": {},
   "outputs": [],
   "source": [
    "\n",
    "import numpy as np\n",
    "# from configs.state_vec import STATE_VEC_IDX_MAPPING\n",
    "def fill_in_state(values):\n",
    "    # Target indices corresponding to your state space\n",
    "    # In this example: 6 joints + 1 gripper for each arm\n",
    "    UNI_STATE_INDICES = [\n",
    "        STATE_VEC_IDX_MAPPING[f\"right_eef_angle_{i}\"] for i in range(6)\n",
    "    ] + [\n",
    "        STATE_VEC_IDX_MAPPING[f\"right_dexhand_{i}\"] for i in range(6)\n",
    "    ] + [\n",
    "        STATE_VEC_IDX_MAPPING[f\"left_eef_angle_{i}\"] for i in range(6)\n",
    "    ] + [\n",
    "        STATE_VEC_IDX_MAPPING[f\"left_dexhand_{i}\"] for i in range(6)\n",
    "    ]\n",
    "    uni_vec = np.zeros(values.shape[:-1] + (128,))\n",
    "    uni_vec[..., UNI_STATE_INDICES] = values\n",
    "    return uni_vec"
   ]
  },
  {
   "cell_type": "code",
   "execution_count": 9,
   "id": "1945030b",
   "metadata": {},
   "outputs": [
    {
     "name": "stdout",
     "output_type": "stream",
     "text": [
      "[-6.09029784e-03  4.70481324e-02  2.96585787e-02 -3.64330881e-05\n",
      " -8.05450790e-03  2.31905617e-02  0.00000000e+00  0.00000000e+00\n",
      "  0.00000000e+00  0.00000000e+00  0.00000000e+00  1.57079633e+00\n",
      "  1.00000000e+00 -1.48954170e-01 -9.97059326e-02 -2.79196035e-02\n",
      "  6.56278804e-03  8.36278796e-01  0.00000000e+00  0.00000000e+00\n",
      "  0.00000000e+00  0.00000000e+00  3.28059849e-01  1.57079633e+00]\n",
      "[ 0.00000000e+00  0.00000000e+00  0.00000000e+00  0.00000000e+00\n",
      "  0.00000000e+00  0.00000000e+00  0.00000000e+00  0.00000000e+00\n",
      "  0.00000000e+00  0.00000000e+00  0.00000000e+00  0.00000000e+00\n",
      "  0.00000000e+00  0.00000000e+00  0.00000000e+00  0.00000000e+00\n",
      "  0.00000000e+00  0.00000000e+00  0.00000000e+00  0.00000000e+00\n",
      "  0.00000000e+00  0.00000000e+00  0.00000000e+00  0.00000000e+00\n",
      "  0.00000000e+00  0.00000000e+00  0.00000000e+00  0.00000000e+00\n",
      "  0.00000000e+00  0.00000000e+00  0.00000000e+00  0.00000000e+00\n",
      "  0.00000000e+00 -6.09029784e-03  4.70481324e-02  2.96585787e-02\n",
      " -3.64330881e-05 -8.05450790e-03  2.31905617e-02  0.00000000e+00\n",
      "  0.00000000e+00  0.00000000e+00  0.00000000e+00  0.00000000e+00\n",
      "  0.00000000e+00  0.00000000e+00  0.00000000e+00  0.00000000e+00\n",
      "  0.00000000e+00  0.00000000e+00  0.00000000e+00  0.00000000e+00\n",
      "  0.00000000e+00  0.00000000e+00  0.00000000e+00  0.00000000e+00\n",
      "  0.00000000e+00  0.00000000e+00  0.00000000e+00  0.00000000e+00\n",
      "  0.00000000e+00  0.00000000e+00  0.00000000e+00  0.00000000e+00\n",
      "  0.00000000e+00  0.00000000e+00  0.00000000e+00  0.00000000e+00\n",
      "  0.00000000e+00  0.00000000e+00  0.00000000e+00  0.00000000e+00\n",
      "  0.00000000e+00  0.00000000e+00  0.00000000e+00  0.00000000e+00\n",
      "  0.00000000e+00  0.00000000e+00  0.00000000e+00  0.00000000e+00\n",
      "  0.00000000e+00  0.00000000e+00  0.00000000e+00  1.00000000e+00\n",
      " -1.48954170e-01 -9.97059326e-02 -2.79196035e-02  6.56278804e-03\n",
      "  8.36278796e-01  0.00000000e+00  0.00000000e+00  0.00000000e+00\n",
      "  0.00000000e+00  0.00000000e+00  0.00000000e+00  0.00000000e+00\n",
      "  0.00000000e+00  0.00000000e+00  0.00000000e+00  0.00000000e+00\n",
      "  0.00000000e+00  0.00000000e+00  0.00000000e+00  0.00000000e+00\n",
      "  0.00000000e+00  0.00000000e+00  0.00000000e+00  0.00000000e+00\n",
      "  1.57079633e+00  0.00000000e+00  0.00000000e+00  0.00000000e+00\n",
      "  0.00000000e+00  0.00000000e+00  0.00000000e+00  0.00000000e+00\n",
      "  0.00000000e+00  3.28059849e-01  1.57079633e+00  0.00000000e+00\n",
      "  0.00000000e+00  0.00000000e+00  0.00000000e+00  0.00000000e+00\n",
      "  0.00000000e+00  0.00000000e+00  0.00000000e+00  0.00000000e+00]\n"
     ]
    }
   ],
   "source": [
    "import h5py\n",
    "with h5py.File('/data/ylkong/two_arm_drawer_cleanup.hdf5', 'r') as f:\n",
    "    actions=f['data']['demo_0']['actions'][0]\n",
    "    print(actions)\n",
    "    actions=fill_in_state(actions)\n",
    "    print(actions)"
   ]
  }
 ],
 "metadata": {
  "kernelspec": {
   "display_name": "rdt",
   "language": "python",
   "name": "python3"
  },
  "language_info": {
   "codemirror_mode": {
    "name": "ipython",
    "version": 3
   },
   "file_extension": ".py",
   "mimetype": "text/x-python",
   "name": "python",
   "nbconvert_exporter": "python",
   "pygments_lexer": "ipython3",
   "version": "3.10.0"
  }
 },
 "nbformat": 4,
 "nbformat_minor": 5
}
