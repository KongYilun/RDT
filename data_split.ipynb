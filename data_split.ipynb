{
 "cells": [
  {
   "cell_type": "code",
   "execution_count": 1,
   "id": "5933eacc",
   "metadata": {},
   "outputs": [],
   "source": [
    "import h5py\n",
    "import numpy as np\n",
    "with h5py.File('/mnt/kyl/datasets/dexmimicgen/two_arm_box_cleanup.hdf5', 'r') as f:\n",
    "    for i in range(1016):\n",
    "        data=f['data'][f'demo_{i}']\n",
    "    # data_0=f['data']['demo_0']\n",
    "    # print(data_0)\n",
    "        with h5py.File(f'/mnt/kyl/code/RoboticsDiffusionTransformer-main/datasets/DexMG_BoxCleanup/demo_{i}.hdf5', \"w\") as f_out:\n",
    "                # 递归复制组及其所有内容\n",
    "            f.copy(data, f_out, name=\"data\")  # 保持原名"
   ]
  },
  {
   "cell_type": "code",
   "execution_count": 1,
   "id": "b74b9375",
   "metadata": {},
   "outputs": [
    {
     "name": "stdout",
     "output_type": "stream",
     "text": [
      "torch.Size([1, 128])\n"
     ]
    }
   ],
   "source": [
    "import torch\n",
    "a=torch.zeros(1,128)\n",
    "print(a.shape)\n"
   ]
  }
 ],
 "metadata": {
  "kernelspec": {
   "display_name": "rdt",
   "language": "python",
   "name": "python3"
  },
  "language_info": {
   "codemirror_mode": {
    "name": "ipython",
    "version": 3
   },
   "file_extension": ".py",
   "mimetype": "text/x-python",
   "name": "python",
   "nbconvert_exporter": "python",
   "pygments_lexer": "ipython3",
   "version": "3.10.18"
  }
 },
 "nbformat": 4,
 "nbformat_minor": 5
}
