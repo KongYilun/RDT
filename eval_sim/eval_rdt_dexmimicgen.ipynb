{
 "cells": [
  {
   "cell_type": "code",
   "execution_count": 7,
   "id": "aa6df9c7",
   "metadata": {},
   "outputs": [
    {
     "ename": "ModuleNotFoundError",
     "evalue": "No module named 'configs'",
     "output_type": "error",
     "traceback": [
      "\u001b[0;31m---------------------------------------------------------------------------\u001b[0m",
      "\u001b[0;31mModuleNotFoundError\u001b[0m                       Traceback (most recent call last)",
      "Cell \u001b[0;32mIn[7], line 11\u001b[0m\n\u001b[1;32m      9\u001b[0m \u001b[38;5;28;01mimport\u001b[39;00m\u001b[38;5;250m \u001b[39m\u001b[38;5;21;01myaml\u001b[39;00m\n\u001b[1;32m     10\u001b[0m sys\u001b[38;5;241m.\u001b[39mpath\u001b[38;5;241m.\u001b[39mappend(\u001b[38;5;28mstr\u001b[39m(\u001b[38;5;124m\"\u001b[39m\u001b[38;5;124m/data/ylkong/code/RoboticsDiffusionTransformer-main/scripts\u001b[39m\u001b[38;5;124m\"\u001b[39m))\n\u001b[0;32m---> 11\u001b[0m \u001b[38;5;28;01mfrom\u001b[39;00m\u001b[38;5;250m \u001b[39m\u001b[38;5;21;01mmaniskill_model\u001b[39;00m\u001b[38;5;250m \u001b[39m\u001b[38;5;28;01mimport\u001b[39;00m create_model, RoboticDiffusionTransformerModel\n\u001b[1;32m     12\u001b[0m \u001b[38;5;28;01mimport\u001b[39;00m\u001b[38;5;250m \u001b[39m\u001b[38;5;21;01mtorch\u001b[39;00m\n\u001b[1;32m     13\u001b[0m \u001b[38;5;28;01mfrom\u001b[39;00m\u001b[38;5;250m \u001b[39m\u001b[38;5;21;01mcollections\u001b[39;00m\u001b[38;5;250m \u001b[39m\u001b[38;5;28;01mimport\u001b[39;00m deque\n",
      "File \u001b[0;32m/data/ylkong/code/RoboticsDiffusionTransformer-main/scripts/maniskill_model.py:8\u001b[0m\n\u001b[1;32m      5\u001b[0m \u001b[38;5;28;01mfrom\u001b[39;00m\u001b[38;5;250m \u001b[39m\u001b[38;5;21;01mPIL\u001b[39;00m\u001b[38;5;250m \u001b[39m\u001b[38;5;28;01mimport\u001b[39;00m Image\n\u001b[1;32m      6\u001b[0m \u001b[38;5;28;01mfrom\u001b[39;00m\u001b[38;5;250m \u001b[39m\u001b[38;5;21;01mtorchvision\u001b[39;00m\u001b[38;5;250m \u001b[39m\u001b[38;5;28;01mimport\u001b[39;00m transforms\n\u001b[0;32m----> 8\u001b[0m \u001b[38;5;28;01mfrom\u001b[39;00m\u001b[38;5;250m \u001b[39m\u001b[38;5;21;01mconfigs\u001b[39;00m\u001b[38;5;21;01m.\u001b[39;00m\u001b[38;5;21;01mstate_vec\u001b[39;00m\u001b[38;5;250m \u001b[39m\u001b[38;5;28;01mimport\u001b[39;00m STATE_VEC_IDX_MAPPING\n\u001b[1;32m      9\u001b[0m \u001b[38;5;28;01mfrom\u001b[39;00m\u001b[38;5;250m \u001b[39m\u001b[38;5;21;01mmodels\u001b[39;00m\u001b[38;5;21;01m.\u001b[39;00m\u001b[38;5;21;01mmultimodal_encoder\u001b[39;00m\u001b[38;5;21;01m.\u001b[39;00m\u001b[38;5;21;01msiglip_encoder\u001b[39;00m\u001b[38;5;250m \u001b[39m\u001b[38;5;28;01mimport\u001b[39;00m SiglipVisionTower\n\u001b[1;32m     10\u001b[0m \u001b[38;5;28;01mfrom\u001b[39;00m\u001b[38;5;250m \u001b[39m\u001b[38;5;21;01mmodels\u001b[39;00m\u001b[38;5;21;01m.\u001b[39;00m\u001b[38;5;21;01mmultimodal_encoder\u001b[39;00m\u001b[38;5;21;01m.\u001b[39;00m\u001b[38;5;21;01mt5_encoder\u001b[39;00m\u001b[38;5;250m \u001b[39m\u001b[38;5;28;01mimport\u001b[39;00m T5Embedder\n",
      "\u001b[0;31mModuleNotFoundError\u001b[0m: No module named 'configs'"
     ]
    }
   ],
   "source": [
    "from typing import Callable, List, Type\n",
    "import sys\n",
    "sys.path.append('/')\n",
    "# import gymnasium as gym\n",
    "import numpy as np\n",
    "# from mani_skill.envs.sapien_env import BaseEnv\n",
    "# from mani_skill.utils import common, gym_utils\n",
    "import argparse\n",
    "import yaml\n",
    "sys.path.append(str(\"/data/ylkong/code/RoboticsDiffusionTransformer-main/scripts\"))\n",
    "from maniskill_model import create_model, RoboticDiffusionTransformerModel\n",
    "import torch\n",
    "from collections import deque\n",
    "from PIL import Image\n",
    "import cv2\n",
    "import random\n",
    "import os\n",
    "\n",
    "# set cuda \n",
    "# args = parse_args()\n",
    "# set random seeds\n",
    "seed = 0\n",
    "random.seed(seed)\n",
    "os.environ['PYTHONHASHSEED'] = str(seed)\n",
    "np.random.seed(seed)\n",
    "torch.manual_seed(seed)\n",
    "torch.cuda.manual_seed(seed)\n",
    "torch.backends.cudnn.deterministic = True\n",
    "torch.backends.cudnn.benchmark = False\n",
    "\n",
    "task2lang={\n",
    "    \"DrawerCleanUp\": \"Place the cup inside the drawer.\"\n",
    "}\n",
    "\n"
   ]
  },
  {
   "cell_type": "code",
   "execution_count": 2,
   "id": "32b2735e",
   "metadata": {},
   "outputs": [
    {
     "name": "stderr",
     "output_type": "stream",
     "text": [
      "\u001b[1m\u001b[33m[robosuite WARNING] \u001b[0mCould not import robosuite_models. Some robots may not be available. If you want to use these robots, please install robosuite_models from source (https://github.com/ARISE-Initiative/robosuite_models) or through pip install. (__init__.py:30)\n",
      "\u001b[1m\u001b[33m[robosuite WARNING] \u001b[0mCould not load the mink-based whole-body IK. Make sure you install related import properly, otherwise you will not be able to use the default IK controller setting for GR1 robot. (__init__.py:40)\n"
     ]
    }
   ],
   "source": [
    "import argparse\n",
    "\n",
    "import numpy as np\n",
    "import robosuite\n",
    "from robosuite import load_composite_controller_config\n",
    "\n",
    "# IMPORTANT: you need to import the package to register the environments\n",
    "import dexmimicgen\n",
    "\n",
    "ENV_ROBOTS = {\n",
    "    \"TwoArmThreading\": [\"Panda\", \"Panda\"],\n",
    "    \"TwoArmThreePieceAssembly\": [\"Panda\", \"Panda\"],\n",
    "    \"TwoArmTransport\": [\"Panda\", \"Panda\"],\n",
    "    \"TwoArmLiftTray\": [\"PandaDexRH\", \"PandaDexLH\"],\n",
    "    \"TwoArmBoxCleanup\": [\"PandaDexRH\", \"PandaDexLH\"],\n",
    "    \"TwoArmDrawerCleanup\": [\"PandaDexRH\", \"PandaDexLH\"],\n",
    "    \"TwoArmCoffee\": [\"GR1FixedLowerBody\"],\n",
    "    \"TwoArmPouring\": [\"GR1FixedLowerBody\"],\n",
    "    \"TwoArmCanSortRandom\": [\"GR1ArmsOnly\"],\n",
    "}"
   ]
  },
  {
   "cell_type": "code",
   "execution_count": 3,
   "id": "1adb87c4",
   "metadata": {},
   "outputs": [
    {
     "name": "stderr",
     "output_type": "stream",
     "text": [
      "\u001b[1m\u001b[32m[robosuite INFO] \u001b[0mLoading controller configuration from: /data/ylkong/robosuite-master/robosuite/controllers/config/robots/default_panda_dex.json (composite_controller_factory.py:121)\n"
     ]
    }
   ],
   "source": [
    "env_kwargs = {\n",
    "    \"env_name\": \"TwoArmDrawerCleanup\",\n",
    "    \"robots\": ENV_ROBOTS[\"TwoArmDrawerCleanup\"],\n",
    "    \"controller_configs\": load_composite_controller_config(\n",
    "        robot=ENV_ROBOTS[\"TwoArmDrawerCleanup\"][0]\n",
    "    ),\n",
    "    \"has_renderer\": False,\n",
    "    \"has_offscreen_renderer\": True,\n",
    "    \"ignore_done\": True,\n",
    "    \"use_camera_obs\": True,\n",
    "    \"use_object_obs\": True,\n",
    "    \"camera_names\": [\"robot0_eye_in_hand\", \"robot1_eye_in_hand\",\"agentview\"],\n",
    "    \"control_freq\": 20,\n",
    "}\n",
    "\n",
    "# initialize the task\n",
    "env = robosuite.make(\n",
    "    **env_kwargs,\n",
    ")"
   ]
  },
  {
   "cell_type": "code",
   "execution_count": null,
   "id": "89cb9beb",
   "metadata": {},
   "outputs": [],
   "source": [
    "config_path = 'configs/base.yaml'\n",
    "with open(config_path, \"r\") as fp:\n",
    "    config = yaml.safe_load(fp)\n",
    "pretrained_text_encoder_name_or_path = \"google/t5-v1_1-xxl\"\n",
    "pretrained_vision_encoder_name_or_path = \"google/siglip-so400m-patch14-384\"\n",
    "pretrained_path = args.pretrained_path\n",
    "policy = create_model(\n",
    "    args=config, \n",
    "    dtype=torch.bfloat16,\n",
    "    pretrained=pretrained_path,\n",
    "    pretrained_text_encoder_name_or_path=pretrained_text_encoder_name_or_path,\n",
    "    pretrained_vision_encoder_name_or_path=pretrained_vision_encoder_name_or_path\n",
    ")"
   ]
  }
 ],
 "metadata": {
  "kernelspec": {
   "display_name": "rdt",
   "language": "python",
   "name": "python3"
  },
  "language_info": {
   "codemirror_mode": {
    "name": "ipython",
    "version": 3
   },
   "file_extension": ".py",
   "mimetype": "text/x-python",
   "name": "python",
   "nbconvert_exporter": "python",
   "pygments_lexer": "ipython3",
   "version": "3.10.0"
  }
 },
 "nbformat": 4,
 "nbformat_minor": 5
}
